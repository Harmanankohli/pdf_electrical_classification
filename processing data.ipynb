{
 "cells": [
  {
   "cell_type": "markdown",
   "metadata": {},
   "source": [
    "### Importing the libraries"
   ]
  },
  {
   "cell_type": "code",
   "execution_count": 10,
   "metadata": {},
   "outputs": [],
   "source": [
    "import threading\n",
    "import urllib.request\n",
    "import io\n",
    "from tika import parser\n",
    "import time\n",
    "import pandas as pd\n",
    "from functools import partial"
   ]
  },
  {
   "cell_type": "markdown",
   "metadata": {},
   "source": [
    "### Reading the data"
   ]
  },
  {
   "cell_type": "code",
   "execution_count": null,
   "metadata": {},
   "outputs": [],
   "source": [
    "train = pd.read_excel(\"mle-1.xlsx\", sheet_name=\"train_data\")\n",
    "test = pd.read_excel(\"mle-1.xlsx\", sheet_name=\"test_data\")\n",
    "train.head()"
   ]
  },
  {
   "cell_type": "code",
   "execution_count": 4,
   "metadata": {},
   "outputs": [
    {
     "data": {
      "text/plain": [
       "(1895, 2)"
      ]
     },
     "execution_count": 4,
     "metadata": {},
     "output_type": "execute_result"
    }
   ],
   "source": [
    "train.shape"
   ]
  },
  {
   "cell_type": "markdown",
   "metadata": {},
   "source": [
    "### Distribution of target column"
   ]
  },
  {
   "cell_type": "code",
   "execution_count": 5,
   "metadata": {},
   "outputs": [
    {
     "data": {
      "text/plain": [
       "target_col\n",
       "lighting    500\n",
       "fuses       500\n",
       "cable       500\n",
       "others      395\n",
       "Name: count, dtype: int64"
      ]
     },
     "execution_count": 5,
     "metadata": {},
     "output_type": "execute_result"
    }
   ],
   "source": [
    "train.target_col.value_counts()"
   ]
  },
  {
   "cell_type": "markdown",
   "metadata": {},
   "source": [
    "### Processing the PDF URLs"
   ]
  },
  {
   "cell_type": "code",
   "execution_count": 11,
   "metadata": {},
   "outputs": [],
   "source": [
    "class TimeoutError(Exception):\n",
    "    pass\n",
    "\n",
    "def monitor_execution_time(func, args=(), kwargs={}, timeout=120):\n",
    "    result = []\n",
    "    error = []\n",
    "    \n",
    "    def target():\n",
    "        try:\n",
    "            result.append(func(*args, **kwargs))\n",
    "        except Exception as e:\n",
    "            error.append(e)\n",
    "    \n",
    "    thread = threading.Thread(target=target)\n",
    "    thread.start()\n",
    "    thread.join(timeout)\n",
    "    \n",
    "    if thread.is_alive():\n",
    "        thread.join(1)  # Give the thread a second to clean up\n",
    "        raise TimeoutError(f\"Error: Function execution exceeded {timeout} seconds\")\n",
    "    \n",
    "    if error:\n",
    "        raise error[0]\n",
    "    \n",
    "    return result[0]\n",
    "\n",
    "def getData(URL):\n",
    "    try:\n",
    "        # Set up headers to mimic a browser request\n",
    "        headers = {'User-Agent': 'Mozilla/5.0 (Windows NT 10.0; Win64; x64) AppleWebKit/537.36 (KHTML, like Gecko) Chrome/91.0.4472.124 Safari/537.36'}\n",
    "        \n",
    "        # Fetch the PDF content from the URL\n",
    "        req = urllib.request.Request(URL, headers=headers)\n",
    "        remote_file = urllib.request.urlopen(req).read()\n",
    "        \n",
    "        # Create a BytesIO object from the remote file\n",
    "        remote_file_bytes = io.BytesIO(remote_file)\n",
    "        \n",
    "        # Parse the PDF content with Tika\n",
    "        parsed_pdf = parser.from_buffer(remote_file_bytes)\n",
    "        data = parsed_pdf['content']\n",
    "        \n",
    "        return data\n",
    "    except Exception as e:\n",
    "        return f\"Error: {str(e)}\"\n",
    "    \n",
    "def process_pdf_with_timeout(url, timeout=120):\n",
    "    try:\n",
    "        return monitor_execution_time(getData, args=(url,), timeout=timeout)\n",
    "    except TimeoutError:\n",
    "        return f\"Error: Processing exceeded {timeout} seconds\"\n",
    "    except Exception as e:\n",
    "        return f\"Error: {str(e)}\""
   ]
  },
  {
   "cell_type": "code",
   "execution_count": null,
   "metadata": {},
   "outputs": [],
   "source": [
    "train['text'] = train['datasheet_link'].apply(process_pdf_with_timeout)\n",
    "test['text'] = test['datasheet_link'].apply(process_pdf_with_timeout)"
   ]
  },
  {
   "cell_type": "markdown",
   "metadata": {},
   "source": [
    "### Saving the results for further processing"
   ]
  },
  {
   "cell_type": "code",
   "execution_count": null,
   "metadata": {},
   "outputs": [],
   "source": [
    "train.to_excel(\"train.xlsx\")\n",
    "test.to_excel(\"test.xlsx\")"
   ]
  }
 ],
 "metadata": {
  "kernelspec": {
   "display_name": ".venv",
   "language": "python",
   "name": "python3"
  },
  "language_info": {
   "codemirror_mode": {
    "name": "ipython",
    "version": 3
   },
   "file_extension": ".py",
   "mimetype": "text/x-python",
   "name": "python",
   "nbconvert_exporter": "python",
   "pygments_lexer": "ipython3",
   "version": "3.11.5"
  }
 },
 "nbformat": 4,
 "nbformat_minor": 2
}
